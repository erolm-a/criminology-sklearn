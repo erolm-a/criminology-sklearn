{
 "cells": [
  {
   "cell_type": "markdown",
   "metadata": {},
   "source": [
    "# Terrorism detection and estimations\n",
    "Terrorism is another interesting application of Machine Learning for crime detection and prevention. The topic is really vast therefore we're going to talk about some techniques and give some references for the details.\n",
    "\n",
    "We'll divide this notebook into 2 parts:\n",
    "\n",
    "1. Definition of terrorism\n",
    "2. **Estimating terrorism behaviour over time**\n",
    "3. **Defeating terrorism**"
   ]
  },
  {
   "cell_type": "markdown",
   "metadata": {},
   "source": [
    "# Introduction\n",
    "**Terrorism** is, in the broadest sense, the use of intentionally indiscriminate violence as a means to create terror among masses of people; or fear to achieve a financial, political, religious or ideological aim. (Wikipedia)\n",
    "\n",
    "Terrorist groups usually differ for these peculiarities:\n",
    "- the organisation (solitaire, family-based, supported by a larger network etc.)\n",
    "- ethnical composition\n",
    "- strategies to conceal\n",
    "- ideology (rebellion, politics, religion orthodoxy etc.)\n",
    "\n",
    "Besides, collecting useful data to process may not be a trivial task: some terrorists are really good at hiding their tracks. Differently from other crimes, it is unacceptable not to prevent a terrorits attack in our modern, democratic society. Therefore the task is threefold complex."
   ]
  },
  {
   "cell_type": "markdown",
   "metadata": {},
   "source": [
    "## Red Brigade Movement and Volterra formula\n",
    "\n",
    "According to Wikipedia, the **Lotka–Volterra equations**, also known as the **predator–prey equations**, are a pair of *first-order nonlinear differential equations*, frequently used to describe the dynamics of biological systems in which two species interact, one as a *predator* and the other as *prey*. (Bold and italics are ours).\n",
    "\n",
    "The solution for the Lotka-Volterra equations is usually the so-called logistic curve. \\begin{equation}\n",
    "f(x) = \\frac{L}{1 + e^{-k(x - x_0)}}\n",
    "\\end{equation}\n",
    "\n",
    "Where:\n",
    "* e = the natural logarithm base (also known as Euler's number),\n",
    "* $x_0$ = the x-value of the sigmoid's midpoint,\n",
    "* L = the curve's maximum value, and\n",
    "* k = the steepness of the curve.\n",
    "\n",
    "Basically it is nothing but a dilatated and translated sigmoid function: \\begin{equation}g(x) = \\frac{1}{1+e^{-x}} \\end{equation}\n",
    "\n",
    "\n",
    "Mr Marchetti noticed how this formula could work and fit fairly well even in radically differents contexts such as the artistic vérve of William Shakespeare and Sandro Botticelli, the rate of automobile population in Italy and the cumulative number of murderers done by Red Brigades members."
   ]
  },
  {
   "cell_type": "code",
   "execution_count": 3,
   "metadata": {
    "scrolled": true
   },
   "outputs": [
    {
     "data": {
      "application/vnd.jupyter.widget-view+json": {
       "model_id": "4ff16d9f662e45a58bd74231ded67570",
       "version_major": 2,
       "version_minor": 0
      },
      "text/html": [
       "<p>Failed to display Jupyter Widget of type <code>interactive</code>.</p>\n",
       "<p>\n",
       "  If you're reading this message in the Jupyter Notebook or JupyterLab Notebook, it may mean\n",
       "  that the widgets JavaScript is still loading. If this message persists, it\n",
       "  likely means that the widgets JavaScript library is either not installed or\n",
       "  not enabled. See the <a href=\"https://ipywidgets.readthedocs.io/en/stable/user_install.html\">Jupyter\n",
       "  Widgets Documentation</a> for setup instructions.\n",
       "</p>\n",
       "<p>\n",
       "  If you're reading this message in another frontend (for example, a static\n",
       "  rendering on GitHub or <a href=\"https://nbviewer.jupyter.org/\">NBViewer</a>),\n",
       "  it may mean that your frontend doesn't currently support widgets.\n",
       "</p>\n"
      ],
      "text/plain": [
       "interactive(children=(FloatSlider(value=2.75, description='L', max=5.0, min=0.5), FloatSlider(value=0.525, description='k', max=1.0, min=0.05), FloatSlider(value=0.0, description='x_0', max=5.0, min=-5.0), IntSlider(value=-20, description='xmin', max=20, min=-60), IntSlider(value=20, description='xmax', max=60, min=-20), Checkbox(value=False, description='ticks'), Checkbox(value=True, description='plot'), Output()), _dom_classes=('widget-interact',))"
      ]
     },
     "metadata": {},
     "output_type": "display_data"
    },
    {
     "data": {
      "text/plain": [
       "<function __main__.logistic_function>"
      ]
     },
     "execution_count": 3,
     "metadata": {},
     "output_type": "execute_result"
    }
   ],
   "source": [
    "%matplotlib inline\n",
    "\n",
    "from __future__ import print_function\n",
    "\n",
    "# for jupyter use mainly\n",
    "from ipywidgets import interact, interactive, fixed, interact_manual\n",
    "import ipywidgets as widgets\n",
    "\n",
    "from math import exp\n",
    "import numpy as np\n",
    "import matplotlib.pyplot as plt\n",
    "\n",
    "# The purpuose is to return a function that is then applied to a dataset.\n",
    "# Unfortunately sklearn's LogisticRegression is indeed a classifier\n",
    "\n",
    "# xmin and xmax are the minimum and the maximum X value;\n",
    "# ticks lets you add the ticks to the graph\n",
    "# plot lets you choose whether to plot the graph or not\n",
    "def logistic_function(L, k, x_0, xmin, xmax, ticks=False, plot=True):\n",
    "    logit = np.vectorize(lambda x: L/(1+exp(-k*(x-x_0))))\n",
    "    if plot:\n",
    "        X_test = np.linspace(xmin, xmax)\n",
    "        y = logit(X_test)\n",
    "        if ticks:\n",
    "            %matplotlib inline\n",
    "            plt.xticks(np.unique(np.ceil(X_test)), rotation='vertical')\n",
    "        plt.plot(X_test, y, color='red')\n",
    "    return logit\n",
    "\n",
    "interact(logistic_function, L = (0.5,5.), k = (0.05, 1), x_0 = (-5.,5.),\n",
    "             xmin=-20, xmax = +20)"
   ]
  },
  {
   "cell_type": "markdown",
   "metadata": {},
   "source": [
    "We want to estimate the number of attacks made by red brigadists during the \"lead years\" in Italy during the period 1971-1975 and we want to predict the **cumulative** number of attacks and the end of the activity of the terrorist group. By cumulative we mean the sum of the attacks happened from the first year of the activity until the current time.\n",
    "\n",
    "| Year | No of attacks (cumulative) |\n",
    "|------|----------------------------|\n",
    "| 1971 | 5                          |\n",
    "| 1972 | 11                         |\n",
    "| 1973 | 19                         |\n",
    "| 1974 | 34                         |\n",
    "| 1975 | 69 \n",
    "\n",
    "Since the solution is: \\begin{equation} f(t) = \\frac{250}{1+e^{-0.75(t - 1976.1)}} \\end{equation}\n",
    "\n",
    "we can try the following prediction"
   ]
  },
  {
   "cell_type": "code",
   "execution_count": 4,
   "metadata": {},
   "outputs": [
    {
     "data": {
      "text/plain": [
       "(array([  5.,  11.,  22.,  42.,  76.]), array([  5.,  11.,  19.,  34.,  69.]))"
      ]
     },
     "execution_count": 4,
     "metadata": {},
     "output_type": "execute_result"
    },
    {
     "data": {
      "image/png": "[encoded data removed]",
      "text/plain": [
       "<matplotlib.figure.Figure at 0x7f2899a32dd8>"
      ]
     },
     "metadata": {},
     "output_type": "display_data"
    }
   ],
   "source": [
    "%matplotlib inline\n",
    "\n",
    "# fix the parameters and get the function\n",
    "regression = logistic_function(L=250, k=0.75, x_0 = 1976.1,\n",
    "                  xmin=1965, xmax = +1985,\n",
    "                  ticks=True, plot=True)\n",
    "\n",
    "# our dataset lacks of the year 1976 in order to get an accurate prediction\n",
    "dataset = np.array([\n",
    "    [1971, 5],\n",
    "    [1972, 11],\n",
    "    [1973, 19],\n",
    "    [1974, 34],\n",
    "    [1975, 69]\n",
    "])\n",
    "\n",
    "# numpy's ravel \"flattens\" a vector of vectors into a single vector\n",
    "# otherwise we would have dataset[...,0] = [[1971], [1972], ...]\n",
    "features = dataset[...,0].ravel()\n",
    "targets = dataset[...,1].ravel()\n",
    "\n",
    "# plot the graph, black dots for the true values, blue dots for the predicted values\n",
    "plt.plot(features, targets, 'ko')\n",
    "plt.plot(features, regression(features), 'bo')\n",
    "np.trunc(regression(features)), np.trunc(targets)"
   ]
  },
  {
   "cell_type": "markdown",
   "metadata": {},
   "source": [
    "Good! Now we can estimate the number of attacks in any year we like. Let's consider 1976"
   ]
  },
  {
   "cell_type": "code",
   "execution_count": 5,
   "metadata": {},
   "outputs": [
    {
     "data": {
      "text/plain": [
       "120.0"
      ]
     },
     "execution_count": 5,
     "metadata": {},
     "output_type": "execute_result"
    }
   ],
   "source": [
    "# transform 1976 into [1976], apply the function and truncate\n",
    "# the result to the nearest integer\n",
    "np.trunc(regression(np.array(1976)))"
   ]
  },
  {
   "cell_type": "markdown",
   "metadata": {},
   "source": [
    "And actually the total number of assassination attempts in 1976 is 122. The prediction looked really accurate.\n",
    "\n",
    "Now let's consider the *number of death per year* caused by the Red Brigades. It's simply $H(t) = f(t) - f(t-1) \\approx \\frac{f(t) - f(t-\\delta)}{\\delta} = f'(t)$, by letting $\\delta \\rightarrow 0$\n",
    "\n",
    "That is, we consider the derivative of the logistic function.\n",
    "So, **the derivative of this function corresponds to the number of victims per year**.\n",
    "Its full expression is:\n",
    "\n",
    "$$\\frac{kLe^{-k(x+x_0)}}{(1+e^{-k(x-x_0)})^2}$$\n",
    "\n",
    "When $x = x_0$ we see that $f'$ reaches its global maximum. In fact the assassination attempts reached the highest score during the period 1976-1977. We also see a horizontal asymptote when $x\\geq1985$ , when the Red Brigades halted their criminal activity.\n",
    "\n",
    "Why did they stop? It isn't ours to understand the underlying reasons behind this curve, what we only have to care know is that the logistic model turned out predicting fairly well.\n",
    "\n",
    "If you are curious try it yourself with different datasets like Cosa Nostra's carnages. Other ideas are Ku Klux Clan, OLP, Jack the ripper."
   ]
  },
  {
   "cell_type": "markdown",
   "metadata": {},
   "source": [
    "# Terrorism detection\n",
    "\n",
    "The mostly known and widespread system is mass surveillance. Computer vision, speech recognition, natural language processing and of course Internet tracking are just a few common buzzwords you'd have probably heard about. Many of them are \"general-purpuose\" i.e. are used to prevent a wide spectrum of crimes. Here we're going to see specific techniques for terrorism detection."
   ]
  },
  {
   "cell_type": "markdown",
   "metadata": {},
   "source": [
    "# Sentiment analysis\n",
    "\n",
    "Although the field of Sentiment Analysis is extremely vast and complex \\[2\\], the common starting point is data mining. Almost any research paper dedicated to Sentiment Analysis makes use of Twitter to get an uninterrupted flow of messages (the current rates can be read in (Azizan et al., 2017)), thanks to both its set of API \\[5\\] and satellite \"cleansing services\" to strip @tags, \\#hashtags etc. Broadly speaking tweets are difficult to analyse whereas Facebook posts can be easier to tackle, both for humans and machines.\n",
    "\n",
    "The correlation between SA and terrorism is proved by terrorists' tendence to diffuse proselytism of false, violent beliefs, thus intrinsecally full of hate words and expression.\n",
    "\n",
    "Things are not so easy. \n",
    "* Negative reviews, jokes, sarchasm and complain result as negative as terrorist text messages.\n",
    "* Outrageous posts may be isolated cases and have no link to previous nefarious messages.\n",
    "\n",
    "Effectively defeating online terrorism is a hard task when it comes to analysing single posts which may seem ambiguous for humans too.\n",
    "\n",
    "**N.B. We're not going to be exhaustive.**"
   ]
  },
  {
   "cell_type": "markdown",
   "metadata": {},
   "source": [
    "## Naïve Bayes Classification (basically your spam detector)\n",
    "\n",
    "\n",
    "Given a list of words we want to give the sentence a class like \"\\{happy, sad, angry,...\\}\"; terrorist messages may have a tendency to be particolarly fearsome and angry besides having some keyword such as caliph and Allah.\n",
    "\n",
    "Let us introduce some notation:\n",
    "\n",
    "$P(C_i)$ is the probability (for our purpuoses the relative frequency may suffice) of a certain message whereas $P(w_i)$ is the probability of a certain word $w_i$. In order to calculate $P(w_i)$ we need a good distribution model. A lookup frequency table may be fine however different distribution functions can work better in other contexts.\n",
    "\n",
    "Let $W = \\{w_1, w_2, ..., w_n\\}$\n",
    "\n",
    "Thanks to Bayes theorem we can say that\n",
    "\n",
    "$$ P(C_i|W) = \\frac{P(W|C_i)P(C_i)}{P(W)}$$\n",
    "\n",
    "The \"naive\" assumption is that all the words used in this sentence are indipendent from each other so $P(W) = P(w_1)P(w_2)\\cdots P(w_n)$ so the problem is a piece of cake:\n",
    "\n",
    "$$P(C_i | W) = \\frac{P(W|C_i)P(C_i)}{P(W)} = \\frac{P(w_1|C_i)P(w_2|C_i)\\cdots P(w_n|C_i)\\cdot P(C_i)}{P(w_1)P(w_2)\\cdots P(w_n)}$$\n",
    "\n",
    "Then iterate for any class and take for good the class with the highest probability (*Maximum A Posteriori*)\n",
    "\n",
    "That method has lots of drawbacks. Messages like \"I feel bad when it rains\" and \"new therapy overcomes depression\" may result in the same emotion score. Besides, there's no way to establish any relationships between messages and contextualize tweets. The accuracy is really low. Of course we're excluding the noise coming from tags and mispelled words.\n",
    "\n",
    "An improvement suggested in \\[3\\] is collecting all the tweets from a single person or a group of interesting people, cleaning them (stripping tags, correcting mispelled words etc.) and classifying them together. The training step must respect the posts cronology.\n",
    "\n",
    "## Artificial Neural Networks: A Highway to Hell\n",
    "\n",
    "Neural networks are now able to process natural language (see NLP). Determine the structure of the sentence is a big improvement and could be used in pair with Bayesian score, especially when it comes to studying not only certain words but patterns like pairs, triples and in general the finding of useful n-grams. Example: *not* + adjective is its opposite. If a sentence ends with an exclamation point has higher probability to be sarchastic etc.\n",
    "\n",
    "What neural networks models can be used?\n",
    "\n",
    "* **Multi-layer perceptron** or **MLP**: it can be able to take multiple features in account at the same time. However the classification does not consider the \"history\" of the user. The accuracy is usually quite low. Besides, training may be really slow and require a huge dataset in the majority of cases so as to reach a discrete  performance. Besides *there's no memory* (i.e. provided the same input over time the classification will always be the same). Although this property is not really related to sentiment analysis it may be desirable for terrorism detection.\n",
    "\n",
    "* **Recurrent neural network** or **RNN**: it is a class of artificial neural network where connections between nodes form a directed graph along a sequence. This allows it to exhibit dynamic temporal behavior for a time sequence (Wikipedia). The key idea is the ability to fully track recurrent traits and, to some extent, implement a rudimental memory. The main drawbacks however are the training period - usually longer than in MLPs - and the memory lenght, usually not as long as we may need\n",
    "\n",
    "* **Long short-term memory network** or **LSTM**: can implement an arbitrary long memory. The core idea is to have some special cells for **input**, **output**, **storage** and **forget** stages or \"gates\". The layers of the LSTM are \"conventional\" neural networks, even RNNs.\n",
    "\n",
    "The topic is discussed in detail in \\[6\\] and \\[7\\]\n",
    "\n",
    "## Lexicon-based approach: be a bookworm\n",
    "The lexicon-based approach involves calculating orientation for a document from the semantic orientation of words or phrases in the document (Turney 2002). It works by basically creating a dictionary where each word is given a score. The classification of the text is then given by the total score. It may sound drastically simple but in many cases (e.g. no sarcasm) it works. Generally the technique but be preceded by input cleaning like reducing long, exaggerated expressions like \"NOOOOOOOOOOOO\" to \"NO\", fixing typos, stemming and so on. The basics of this process are well-documented in \\[8\\] "
   ]
  },
  {
   "cell_type": "markdown",
   "metadata": {},
   "source": [
    "## CAPPS\n",
    "\n",
    "Computer-Assisted Passenger Prescreening System is a counter-terrorism system for risk prevention in airports. It is active mainly in USA from 1990 (CAPPS I)and strengthened after 9/11 (CAPPS II). However a lot of positive and negative cases continued to arose and privacy became a big concern among the passengers. This brought the project to its end in 2004.\n",
    "\n",
    "The core idea behind CAPPS is that terrorists (in general, malicious people tend to share a similar behaviour when buying airplane tickets and that it usually differs from ordinary travelers.\n",
    "\n",
    "CAPPS detects a number of \"features\":\n",
    "\n",
    "1. Anagraphical information: does the passenger have \"troublesome\" origins?\n",
    "2. Historical information: has the passenger been previously a suspect or has it been selected and screened? What was the outcome last time?\n",
    "3. Behavioural information: is the route unusual for the passenger (like going to Syria without ever going there before)? Did the passenger buy a single or a return ticket?\n",
    "\n",
    "These data are then collected and sent to an \"intelligence-based system for unknown terrorists detection\". Although everybody undergoes a pre-screening test passengers with a high score may be required to undergo more intensive pre-screening tests.\n",
    "\n",
    "The chart below should be pretty eloquent.\n",
    "\n",
    "![](resources/cappsii.jpg \"Copyright © 2000-2018 GlobalSecurity.org All rights reserved.\")\n",
    "\n",
    "The mechanism behind CAPPS II is strictly confidential but we may argue that a Machine-Learning algorithm was applied.\n",
    "\n",
    "In 2009 Secure Flight was proposed by the American Government. Theorically that replacement should be less invasive and shouldn't implement any machine learning algorithm, but in practise... who knows? PRISM scandal turned our beliefs about the American Government upside down. For further reference check \\[9\\] ."
   ]
  },
  {
   "cell_type": "markdown",
   "metadata": {},
   "source": [
    "# References\n",
    "\n",
    "\\[1\\]: Marchetti, C., On Time and Crime: A Quantitative Analysis of the Time Pattern of Social and Criminal Activities, IIASA WP-85-084 (1985)\n",
    "\n",
    "\\[2\\]: https://scholar.google.it/scholar?hl=en&as_sdt=0%2C5&q=sentiment+analysis+terrorism&btnG= : about 106,000 results so far (Jun 2018)\n",
    "\n",
    "\\[3\\]: Azizan, S. A., Aziz, I. A.: Terrorism Detection Based on Sentiment Analysis Using Machine Learning, Universiti Teknologi Petronas Bandar Seri Iskandar, Perak, Malaysia (2017)\n",
    "\n",
    "\\[4\\]: Hassan, A., Korashy, H., Medhat, W.: Sentiment analysis algorithms and applications - a survey. Ain Shams Eng. J. 5, 1093–1113 (2014)\n",
    "\n",
    "\\[5\\]: https://developer.twitter.com/en/docs/api-reference-index.html\n",
    "\n",
    "\\[6\\]: Kouloumpis, E., Wilson, T., Moore, J.: Twitter Sentiment analysis: The Good the Bad and the OMG!, Fifth International aaai (2009)\n",
    "\n",
    "\\[7\\]: Chung, J., Gulcehre, C., Cho, K., Bengio, Y. Empirical Evaluation of Gated Recurrent Neural Networks on Sequence Modeling\n",
    "\n",
    "\\[8\\]: Palanisamy, P., Yadav, V., Elchuri, H.: Serendio: Simple and Practical lexicon based approach to Sentiment Analysis, Serendio Software Pvt Ltd, Guindy, Chennai 600032, India (2013)\n",
    "\n",
    "\\[9\\]: https://www.globalsecurity.org/security/systems/secure-flight.htm"
   ]
  }
 ],
 "metadata": {
  "kernelspec": {
   "display_name": "Python 3",
   "language": "python",
   "name": "python3"
  },
  "language_info": {
   "codemirror_mode": {
    "name": "ipython",
    "version": 3
   },
   "file_extension": ".py",
   "mimetype": "text/x-python",
   "name": "python",
   "nbconvert_exporter": "python",
   "pygments_lexer": "ipython3",
   "version": "3.6.4"
  }
 },
 "nbformat": 4,
 "nbformat_minor": 2
}
