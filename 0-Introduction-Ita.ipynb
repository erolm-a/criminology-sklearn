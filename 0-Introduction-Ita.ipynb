{
 "cells": [
  {
   "cell_type": "markdown",
   "metadata": {},
   "source": [
    "# Machine Learning applicato: criminologia\n",
    "### E. M. Trombetta\n"
   ]
  },
  {
   "cell_type": "markdown",
   "metadata": {},
   "source": [
    "## Scaletta\n",
    "\n",
    "1. Cenni storici sulla criminologia\n",
    "2. Un esempio: modello di Rossmo\n",
    "3. Terrorismo\n",
    "4. Oggi: l'etica del minare i dati personali (data mining) e profilazione\n",
    "5. Domande libere"
   ]
  },
  {
   "cell_type": "markdown",
   "metadata": {},
   "source": [
    "Secondo Wikipedia con **criminologia** si intende \\[..\\] lo studio scientifico della *natura, portata, gestione, cause, controllo, conseguenze e prevenzione* del comportamento criminale, **sia in chiave individuale che sociale**"
   ]
  },
  {
   "cell_type": "markdown",
   "metadata": {},
   "source": [
    "## Storia della criminologia\n",
    "\n",
    "Generalmente si data la nascita di questa branca di studi durante i secoli XVIII e XIX. Nel diritto romano post-repubblicano il _crimen_ indicava il reato e _delictum_ l'illecito civile ma la distinzione tra i due consisteva principalmente nella punizione da infliggere ai colpevoli. \n",
    "Per buona parte del Medioevo si ritenne che Satana fosse la causa dei mali e che quindi il criminale fosse un prigioniero (_captivus_) del Male.\n",
    "\n",
    "### Illuminismo e la scuola classica\n",
    "\n",
    "Dalla sociologia, nata durante il XV secolo ma culminante durante il XVIII secolo, emerse un filone di filosofi (Longano, Filangeri, Grimaldi,...) che rifletté sull'ineguaglianza sociale come base per la delinquenza.\n",
    "I primi filosofi ad affrontare la questione del concetto di crimine furono **Cesare Beccaria** e **Jeremy Bentham**. Il capolavoro del primo, *Dei Delitti e delle Pene* definisce per la prima volta nella storia il crimine come **atto contro la società**. Poiché lo Stato deve garantire l'ordine pubblico è suo compito quello di perseguire ogni causa di destabilizzazione.\n",
    "\n",
    "Secondo la **teoria della scelta razionale** l'uomo delinque in base a un calcolo di convenienza, di conseguenza il sistema penale deve essere costruito al punto da rendere la scelta delinquente poco vantaggiosa."
   ]
  },
  {
   "cell_type": "markdown",
   "metadata": {},
   "source": [
    "### La Scuola positivista\n",
    "Come diretta evoluzione durante il Positivismo (XIX secolo). Il più importante cambiamento consiste nel passaggio tra utilitarismo (l'uomo agisce secondo il proprio tornaconto) al determinismo (il comportamento umano è causato da fattori esterni). In entrambi i casi il metodo scientifico è usato per la prima volta per analizzare le cause sociologiche prima che le loro conseguenze.\n",
    "\n",
    "#### La Scuola italiana\n",
    "L'applicazione diretta della **frenologia** (credere che ogni funzione cognitiva sia localizzata in un luogo ben preciso del cervello e che dunque la conformazione del cranio ne implichi le facoltà intellettive) fu poi impiegata da **Cesare Lombroso**, un sociologo italiano del XIX secolo. Secondo lui certi tratti fisiologici della struttura del cranio indicano una mancata evoluzione dalle specie capostipite dell'uomo. Nonostante la sua teoria sia oggigiorno rifiutata dalla comunità scientifica Lombroso è ancora considerato \"il padre della criminologia\".\n",
    "\n",
    "#### Positivismo sociale\n",
    "In opposizione al determinismo \"biologico\" si affermò l'idea del determinismo sociale secondo il quale sono gli ambienti sociali esterni ad assumere un ruolo primario nello sviluppo della personalità. Per effettuare correlazioni tra fattori sociali e attitudine al crimine fu necessario mettere a punto adeguati strumenti statistici. **Lance Lochner** dimostrò la correlazione inversa tra istruzione e criminalità, **Rawson W. Rawson** provò che la un aumento di densità di popolazione implica un aumento del tasso criminoso (ragion per cui le capitali sono tra i posti più malfamati) e **Émile Durkheim** affermò che, seppure il crimine sia un fenomeno fisiologico della società organizzata, la distribuzione impari del benessere gioca un ruolo determinante."
   ]
  },
  {
   "cell_type": "markdown",
   "metadata": {},
   "source": [
    "### La scuola di Chicago e la nascita della criminologia moderna\n",
    "La scuola di Chicago si costituì alla fine del diciannovesimo secolo e già nel ventesimo diventò un modello di riferimento nel campo sociologico e dunque criminologico.\n",
    "\n",
    "Secondo la \"scuola ecologica\", la debolezza del positivismo consiste nell'analogia così stretta tra meccanicismo fisico, biologia e antropologia, impedendo di determinare certi aspetti più dinamici che trascendono da alcuni di questi campi. Un altro problema è se la comunità di persone vada vista come soggetto unico e omogeneo, eterogeneo o semplicemente come una somma di individui. L'idea ecologica dimostra che i cambiamenti esterni non avvengono né per caso né volutamente ma sono frutto della volontà e del dinamismo degli ambienti sociali.\n",
    "\n",
    "Tra i \"sociologi urbani più importanti ricordiamo Robert E. Park, Ernest Burgess. Negli anni Venti Park e Burgess identificarono **cinque zone concentriche** che nascono durante le fasi espansive delle città; tra queste le \"zone di transizione\", cioè quelle di confine tra zone più complementari come quartieri residenti e di business, sono spesso le più volatili e soggette al disordine. Negli anni Quaranta, **Henry McKay** e **Clifford R. Shaw** posero l'attenzione sulla delinquenza giovanile (le \"baby gang\"), dimostrando che la maggior parte di queste era insediata in zone di transizione.\n",
    "\n",
    "![](resources/conzone.gif \"Fonte: http://www.umsl.edu/~keelr/200/socdisor.html\")"
   ]
  },
  {
   "cell_type": "markdown",
   "metadata": {},
   "source": [
    "# In breve\n",
    "La criminologia è una branca della sociologia che nel tempo ha saputo evidenziare importanti relazioni tra caratteri sociali e comportamenti, seppure un collegamento puramente deterministico risulta fuorviante. La ricerca di pattern comuni tra i vari tipi di crimine è una sfida ancora oggi aperta ma il Machine Learning ha lasciato aperte molte possibilità.\n",
    "\n",
    "In queste pagine vedremo come usare il Machine Learning per tali fini."
   ]
  },
  {
   "cell_type": "markdown",
   "metadata": {},
   "source": [
    "References:\n",
    "\n",
    "\\[1\\]: https://en.wikipedia.org/wiki/Criminology e https://it.wikipedia.org/wiki/Storia_della_criminologia\n",
    "\n",
    "\\[2\\]: Your history and philosophy textbook (e.g. Ubaldo Nicola, *Atlante di Filosofia*, Giunti Editore, Firenze 2005)\n",
    "\n",
    "\\[3\\]: Mariano Tomatis, *Numeri Assassini*, Kowalsky Apogeo, Milano 2011\n",
    "\n",
    "\\[4\\]: Cesare Beccaria, *On Crimes and Punishments\n",
    "\n",
    "\\[5\\]: https://it.wikipedia.org/wiki/Scuola_di_Chicago_(sociologia)\n",
    "\n",
    "\\[6\\]: http://www.umsl.edu/~keelr/200/socdisor.html"
   ]
  }
 ],
 "metadata": {
  "kernelspec": {
   "display_name": "Python 3",
   "language": "python",
   "name": "python3"
  },
  "language_info": {
   "codemirror_mode": {
    "name": "ipython",
    "version": 3
   },
   "file_extension": ".py",
   "mimetype": "text/x-python",
   "name": "python",
   "nbconvert_exporter": "python",
   "pygments_lexer": "ipython3",
   "version": "3.6.4"
  }
 },
 "nbformat": 4,
 "nbformat_minor": 2
}
