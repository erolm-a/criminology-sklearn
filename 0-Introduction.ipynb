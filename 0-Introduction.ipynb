{
 "cells": [
  {
   "cell_type": "markdown",
   "metadata": {},
   "source": [
    "# Applied Machine Learning: Criminology\n",
    "### E. M. Trombetta\n"
   ]
  },
  {
   "cell_type": "markdown",
   "metadata": {},
   "source": [
    "# Roadmap\n",
    "\n",
    "1. The history of Criminology\n",
    "2. An example: Rossmo model\n",
    "3. Terrorism\n",
    "4. Today: Ethics of Data Mining and Profiling\n",
    "5. Free questions"
   ]
  },
  {
   "cell_type": "markdown",
   "metadata": {},
   "source": [
    "According to Wikipedia, **criminology** \\[..\\] is the scientific study of the *nature, extent, management, causes, control, consequences, and prevention* of criminal behavior, **both on the individual and social levels**.\n",
    "\n",
    "### The Age of Enlightenment\n",
    "Being a particular branch of the sociology, the study of criminality followed the main scientific-philosofical currents in each era. An example is the Four temperaments theory (\"Teoria degli umori\") or witch-hunting. The first philosophers who tackled the criminology distinction were **Cesare Beccaria** and **Jeremy Bentham**. The former's masterpiece *Of Crimes and Punishments* defines, for the first time in history, a crime as **an act against society; a serious one can lead it into disruption**. In a certain sense, Beccaria was the first pioneer in criminology, although he did only talk about what to do in order to prevent crimes from happening e.g. having the laws translated into vernacular language, educating or empowering the prison as a re-educational place instead of only punishing the prisoners."
   ]
  },
  {
   "cell_type": "markdown",
   "metadata": {},
   "source": [
    "### The Positivist School\n",
    "The Positivist school argues that criminal behavior comes from internal and external factors out of the individual's control. Philosophers within this school applied the scientific method to study human behavior.\n",
    "\n",
    "#### The Italian School\n",
    "It was **Cesare Lombroso**, an Italian sociologist working in the late 19th century, who brought a scientific approach to crime study. Although the theory of physiological traits indicating a lack of evolution from Neanderthals is nowadays rejected by the scientific community, he is still regarded to as \"the father of criminology\".\n",
    "\n",
    "#### Social Positivism\n",
    "Taking advantage of Naturalists' progress about the correlation between social factors and likelihood to commit crimes, a statistical approach became necessary. **Lance Lochner** proved that education is linked to a fall in criminality, **Rawson W. Rawson** proved a link between population density and crime rates (e.g. crowded cities are the most allarming). **Émile Durkheim** claimed that any society has to face criminality and uneven distribution of wealth and other differences among people."
   ]
  },
  {
   "cell_type": "markdown",
   "metadata": {},
   "source": [
    "### Chicago School and The Birth of Modern Criminology\n",
    "(Taken from Wikipedia)\n",
    "The Chicago school arose in the early twentieth century, through the work of Robert E. Park, Ernest Burgess, and other urban sociologists at the University of Chicago. In the 1920s, Park and Burgess identified five concentric zones that often exist as cities grow, including the \"zone in transition\", which was identified as most volatile and subject to disorder. In the 1940s, Henry McKay and Clifford R. Shaw focused on juvenile delinquents, finding that they were concentrated in the zone of transition."
   ]
  },
  {
   "cell_type": "markdown",
   "metadata": {},
   "source": [
    "# In a nutshell\n",
    "History tells us that criminology and crime chasing can't ignore social patterns. **Machine learning is good at finding patterns where humans may fail or where variables are too many to be analyzed by a human being**"
   ]
  },
  {
   "cell_type": "markdown",
   "metadata": {},
   "source": [
    "References:\n",
    "\n",
    "\\[1\\]: https://en.wikipedia.org/wiki/Criminology\n",
    "\n",
    "\\[2\\]: Your history and philosophy textbook (e.g. Ubaldo Nicola, *Atlante di Filosofia*, Giunti Editore, Firenze 2005)\n",
    "\n",
    "\\[3\\]: Mariano Tomatis, *Numeri Assassini*, Kowalsky Apogeo, Milano 2011\n",
    "\n",
    "\\[4\\]: Cesare Beccaria, *On Crimes and Punishments"
   ]
  }
 ],
 "metadata": {
  "kernelspec": {
   "display_name": "Python 3",
   "language": "python",
   "name": "python3"
  },
  "language_info": {
   "codemirror_mode": {
    "name": "ipython",
    "version": 3
   },
   "file_extension": ".py",
   "mimetype": "text/x-python",
   "name": "python",
   "nbconvert_exporter": "python",
   "pygments_lexer": "ipython3",
   "version": "3.6.4"
  }
 },
 "nbformat": 4,
 "nbformat_minor": 2
}
