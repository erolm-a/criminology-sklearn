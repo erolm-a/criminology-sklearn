{
 "cells": [
  {
   "cell_type": "markdown",
   "metadata": {},
   "source": [
    "# Sneaking into Our Lifes\n",
    "\n",
    "A society capable of detecting any form of crime and preventing it from happening, but at the expense of your privacy... Would you accept this cost?"
   ]
  },
  {
   "cell_type": "markdown",
   "metadata": {},
   "source": [
    "![Orwell's 1984](https://www.projectexcape.it/wp-content/uploads/2016/12/bb.jpg)"
   ]
  },
  {
   "cell_type": "markdown",
   "metadata": {},
   "source": [
    "Let's have a comparated read:\n",
    "\n",
    "![](http://www.artesettima.it/wp-content/uploads/2017/12/Psycho-Pass-Copertina.jpg)"
   ]
  },
  {
   "cell_type": "markdown",
   "metadata": {},
   "source": [
    "<blockquote>The story takes place in an authoritarian future dystopia, where omnipresent public sensors continuously scan the mental states of every passing citizen. Collected data on both present mentality and aggregated personality data is used to gauge the probability of that citizen committing a crime, the rating referred to as that citizen's Psycho-Pass. Authorities are alerted whenever excessive ratings are detected, and officers of the Public Safety Bureau are dispatched with weapons called \"Dominators\", energy pistols that modulate their power in response to the target's Psycho Pass.</blockquote> (*Abridged from Wikipedia*)"
   ]
  },
  {
   "cell_type": "markdown",
   "metadata": {},
   "source": [
    "Sounds familiar?"
   ]
  },
  {
   "cell_type": "code",
   "execution_count": null,
   "metadata": {},
   "outputs": [],
   "source": []
  }
 ],
 "metadata": {
  "kernelspec": {
   "display_name": "Python 3",
   "language": "python",
   "name": "python3"
  },
  "language_info": {
   "codemirror_mode": {
    "name": "ipython",
    "version": 3
   },
   "file_extension": ".py",
   "mimetype": "text/x-python",
   "name": "python",
   "nbconvert_exporter": "python",
   "pygments_lexer": "ipython3",
   "version": "3.6.4"
  }
 },
 "nbformat": 4,
 "nbformat_minor": 2
}
