{
 "cells": [
  {
   "cell_type": "markdown",
   "metadata": {},
   "source": [
    "# (Mis)use of Machine Learning"
   ]
  },
  {
   "cell_type": "markdown",
   "metadata": {},
   "source": [
    "## The rise of Neo-lombrosians\n",
    "\n",
    "The main issue with Machine Learning is that the quality of a predictive system may only be as good as the training set. If a dataset is biased the outcome will be biased too. Here's an example, brilliantly exposed in [\\[1\\]](#1) and  [\\[2\\]](#2)\n",
    "\n",
    "In 2016 two Chinese researchers published an example of how CNNs could be used to classify faces as \"criminal\" and \"not criminals\". Too bad the dataset was badly made: non-criminals were grinning whereas criminals weren't in the majority of photographs used for the dataset. The interpretation of the model was simply a classifier that returned the outcomes \"is smiling\" or \"is not smiling\".\n",
    "\n",
    "Welcome to the world of appearances. Machine learning did not do anything but judging from the stereotypes."
   ]
  },
  {
   "cell_type": "markdown",
   "metadata": {},
   "source": [
    "## Risk Analysis\n",
    "\n",
    "The problem with Risk analysis is: how many variables do you have? If there are aew variables or data volume is not big enough probability prediction can hardly be better than humans'. Hence predicting whether humans may be criminal is just haphazard without the good parameters.\n",
    "\n",
    "Unfortunately a lack of important variables/dimensions may bring about predictions slighly better than guessing (i.e. accuracy is below 0.7)."
   ]
  },
  {
   "cell_type": "markdown",
   "metadata": {},
   "source": [
    "## Data Mining: an Improvised Solution to the Lack of Dimensionality\n",
    "\n",
    "Data mining is like a jolly card because it helps you solve a wide spectrum of problems without looking for a specific dataset (at least you would have to filter some entries that satisfy certain criteria before working on it). This may be useful for criminality especially when more relationships are to be found (as we've just seen in CAPPS). Unfortunately, data mining requires the researcher to store the infamous _big data_, a not-so-trivial nor cheap task."
   ]
  },
  {
   "cell_type": "markdown",
   "metadata": {},
   "source": [
    "## What happens when Machine Learning is blindly trusted\n",
    "\n",
    "\n",
    "![](http://www.artesettima.it/wp-content/uploads/2017/12/Psycho-Pass-Copertina.jpg)"
   ]
  },
  {
   "cell_type": "markdown",
   "metadata": {},
   "source": [
    "<blockquote>The story takes place in an authoritarian future dystopia, where omnipresent public sensors continuously scan the mental states of every passing citizen. Collected data on both present mentality and aggregated personality data is used to gauge the probability of that citizen committing a crime, the rating referred to as that citizen's Psycho-Pass. Authorities are alerted whenever excessive ratings are detected, and officers of the Public Safety Bureau are dispatched with weapons called \"Dominators\", energy pistols that modulate their power in response to the target's Psycho Pass.</blockquote> (*Abridged from Wikipedia*)\n",
    "\n",
    "\n",
    "Is this sci-fi?"
   ]
  },
  {
   "cell_type": "code",
   "execution_count": 4,
   "metadata": {},
   "outputs": [
    {
     "data": {
      "text/html": [
       "<iframe width=\"560\" height=\"315\" src=\"https://www.youtube.com/embed/eZIFHqsKaSM?start=400\" frameborder=\"0\" allow=\"autoplay; encrypted-media\" allowfullscreen></iframe>"
      ],
      "text/plain": [
       "<IPython.core.display.HTML object>"
      ]
     },
     "execution_count": 4,
     "metadata": {},
     "output_type": "execute_result"
    }
   ],
   "source": [
    "from IPython.display import HTML\n",
    "\n",
    "# Youtube\n",
    "HTML('<iframe width=\"560\" height=\"315\" src=\"https://www.youtube.com/embed/eZIFHqsKaSM?start=400\" frameborder=\"0\" allow=\"autoplay; encrypted-media\" allowfullscreen></iframe>')"
   ]
  },
  {
   "cell_type": "markdown",
   "metadata": {},
   "source": [
    "![Orwell's 1984](https://www.projectexcape.it/wp-content/uploads/2016/12/bb.jpg)"
   ]
  },
  {
   "cell_type": "markdown",
   "metadata": {},
   "source": [
    "<a name=\"1\">\\[1\\]</a> https://www.youtube.com/watch?v=rga2-d1oi30\n",
    "\n",
    "<a name=\"2\">\\[2\\]</a> http://callingbullshit.org/case_studies/case_study_criminal_machine_learning.html , basically the transcript of the link in [\\[1\\]](#1)\n",
    "\n",
    "<a name=\"3\">\\[3\\]</a> Prova"
   ]
  }
 ],
 "metadata": {
  "kernelspec": {
   "display_name": "Python 3",
   "language": "python",
   "name": "python3"
  },
  "language_info": {
   "codemirror_mode": {
    "name": "ipython",
    "version": 3
   },
   "file_extension": ".py",
   "mimetype": "text/x-python",
   "name": "python",
   "nbconvert_exporter": "python",
   "pygments_lexer": "ipython3",
   "version": "3.6.4"
  }
 },
 "nbformat": 4,
 "nbformat_minor": 2
}
